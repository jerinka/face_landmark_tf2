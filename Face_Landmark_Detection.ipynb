{
 "cells": [
  {
   "cell_type": "markdown",
   "metadata": {
    "id": "wbkXMkrTgXiF"
   },
   "source": [
    "\n",
    "# **Face Landmark Detection With TensorFlow**\n",
    "\n",
    "Highly inspired by: https://github.com/shubham0204/Privacy_Policy_Texts/blob/master/notebook_button_two.png?raw=true\n",
    "\n",
    "\n",
    "In this notebook, we'll develop a model which marks 15 keypoints on a given image of a human face. We'll build a Convolutional Neural Network which takes an image and returns a array of 15 keypoints.\n",
    "\n",
    "We'll require a GPU Hardware accelerator for training the model. Change the runtime type to GPU by going to `Tools > Change Runtime Type > Hardware Accelerator > GPU`.\n",
    "\n",
    "\n"
   ]
  },
  {
   "cell_type": "markdown",
   "metadata": {
    "id": "nnpIO-lThFCl"
   },
   "source": [
    "\n",
    "## 1) Importing the Packages\n"
   ]
  },
  {
   "cell_type": "markdown",
   "metadata": {
    "id": "ctoxP_8shhPr"
   },
   "source": [
    "\n",
    "We import TensorFlow and NumPy. Other packages are imported as and when needed.\n"
   ]
  },
  {
   "cell_type": "code",
   "execution_count": 26,
   "metadata": {
    "id": "7jso6uFH9-4m"
   },
   "outputs": [],
   "source": [
    "\n",
    "import tensorflow as tf\n",
    "import numpy as np\n"
   ]
  },
  {
   "cell_type": "markdown",
   "metadata": {
    "id": "zSBmIS2sh310"
   },
   "source": [
    "\n",
    "## 2) Loading the Data\n",
    "\n",
    "The original data comes [Face Images with Marked Landmark Points](https://www.kaggle.com/drgilermo/face-images-with-marked-landmark-points) on [Kaggle](https://www.kaggle.com/) by [Omri Goldstein](https://www.kaggle.com/drgilermo). In this dataset, the `facial_keypoints.csv` file contains the 15 keypoints for all images.\n",
    "\n",
    "> *Certain images do not have all the 15 keypoints. So, I've cleaned the dataset and kept only those images which have all the 15 keypoints. See this [script](https://gist.github.com/shubham0204/7eb0435dc0142ce4fc560629111e0648) which was used to clean the dataset.*\n",
    "\n",
    "\n"
   ]
  },
  {
   "cell_type": "code",
   "execution_count": 28,
   "metadata": {
    "id": "kG613uNGJzsJ"
   },
   "outputs": [],
   "source": [
    "if 0:\n",
    "    !wget https://github.com/shubham0204/Dataset_Archives/blob/master/face_landmarks_cleaned.zip?raw=true -O data.zip\n",
    "    !unzip data.zip\n"
   ]
  },
  {
   "cell_type": "markdown",
   "metadata": {
    "id": "VRmx7M28jqSG"
   },
   "source": [
    "\n",
    "We'll normalize the images as well as the keypoints. The shape of our input image will be  `( 96 , 96 , 1 )` and the expected output will have a shape of `( 1 , 1 , 30 )`. The output is from a `Conv2D` layer rather than the `Dense` layer.\n"
   ]
  },
  {
   "cell_type": "code",
   "execution_count": 29,
   "metadata": {
    "id": "SUvzB_pTMQgC"
   },
   "outputs": [],
   "source": [
    "\n",
    "x_train = np.load( \"face_landmarks_cleaned/x_train.npy\" ) / 255\n",
    "y_train = np.load( \"face_landmarks_cleaned/y_train.npy\" ) / 96\n",
    "x_test = np.load( \"face_landmarks_cleaned/x_test.npy\" ) / 255\n",
    "y_test = np.load( \"face_landmarks_cleaned/y_test.npy\" ) / 96\n",
    "\n",
    "y_train = np.reshape( y_train , ( -1 , 1 , 1 , 30 ))\n",
    "y_test = np.reshape( y_test , ( -1 , 1 , 1 , 30 ))\n"
   ]
  },
  {
   "cell_type": "markdown",
   "metadata": {
    "id": "GQSjglxckPcO"
   },
   "source": [
    "\n",
    "## 3) The CNN Model\n",
    "\n",
    "We'll build a CNN model which `Conv2D` layers. We do not include `Dense` and `MaxPooling2D` layers here. The output will always be a number in the interval [ 0 , 1 ] so we can use sigmoid activation.\n"
   ]
  },
  {
   "cell_type": "code",
   "execution_count": 30,
   "metadata": {
    "id": "HGkSJI41fHfg"
   },
   "outputs": [
    {
     "name": "stdout",
     "output_type": "stream",
     "text": [
      "Model: \"sequential_2\"\n",
      "_________________________________________________________________\n",
      " Layer (type)                Output Shape              Param #   \n",
      "=================================================================\n",
      " separable_conv2d_72 (Separa  (None, 92, 92, 128)      281       \n",
      " bleConv2D)                                                      \n",
      "                                                                 \n",
      " batch_normalization_16 (Bat  (None, 92, 92, 128)      512       \n",
      " chNormalization)                                                \n",
      "                                                                 \n",
      " activation_16 (Activation)  (None, 92, 92, 128)       0         \n",
      "                                                                 \n",
      " separable_conv2d_73 (Separa  (None, 88, 88, 128)      19712     \n",
      " bleConv2D)                                                      \n",
      "                                                                 \n",
      " batch_normalization_17 (Bat  (None, 88, 88, 128)      512       \n",
      " chNormalization)                                                \n",
      "                                                                 \n",
      " activation_17 (Activation)  (None, 88, 88, 128)       0         \n",
      "                                                                 \n",
      " separable_conv2d_74 (Separa  (None, 84, 84, 128)      19712     \n",
      " bleConv2D)                                                      \n",
      "                                                                 \n",
      " separable_conv2d_75 (Separa  (None, 80, 80, 128)      19712     \n",
      " bleConv2D)                                                      \n",
      "                                                                 \n",
      " separable_conv2d_76 (Separa  (None, 76, 76, 128)      19712     \n",
      " bleConv2D)                                                      \n",
      "                                                                 \n",
      " batch_normalization_18 (Bat  (None, 76, 76, 128)      512       \n",
      " chNormalization)                                                \n",
      "                                                                 \n",
      " activation_18 (Activation)  (None, 76, 76, 128)       0         \n",
      "                                                                 \n",
      " separable_conv2d_77 (Separa  (None, 72, 72, 128)      19712     \n",
      " bleConv2D)                                                      \n",
      "                                                                 \n",
      " batch_normalization_19 (Bat  (None, 72, 72, 128)      512       \n",
      " chNormalization)                                                \n",
      "                                                                 \n",
      " activation_19 (Activation)  (None, 72, 72, 128)       0         \n",
      "                                                                 \n",
      " separable_conv2d_78 (Separa  (None, 68, 68, 128)      19712     \n",
      " bleConv2D)                                                      \n",
      "                                                                 \n",
      " separable_conv2d_79 (Separa  (None, 64, 64, 128)      19712     \n",
      " bleConv2D)                                                      \n",
      "                                                                 \n",
      " separable_conv2d_80 (Separa  (None, 60, 60, 128)      19712     \n",
      " bleConv2D)                                                      \n",
      "                                                                 \n",
      " batch_normalization_20 (Bat  (None, 60, 60, 128)      512       \n",
      " chNormalization)                                                \n",
      "                                                                 \n",
      " activation_20 (Activation)  (None, 60, 60, 128)       0         \n",
      "                                                                 \n",
      " separable_conv2d_81 (Separa  (None, 56, 56, 128)      19712     \n",
      " bleConv2D)                                                      \n",
      "                                                                 \n",
      " batch_normalization_21 (Bat  (None, 56, 56, 128)      512       \n",
      " chNormalization)                                                \n",
      "                                                                 \n",
      " activation_21 (Activation)  (None, 56, 56, 128)       0         \n",
      "                                                                 \n",
      " separable_conv2d_82 (Separa  (None, 52, 52, 64)       11456     \n",
      " bleConv2D)                                                      \n",
      "                                                                 \n",
      " separable_conv2d_83 (Separa  (None, 48, 48, 64)       5760      \n",
      " bleConv2D)                                                      \n",
      "                                                                 \n",
      " separable_conv2d_84 (Separa  (None, 44, 44, 64)       5760      \n",
      " bleConv2D)                                                      \n",
      "                                                                 \n",
      " batch_normalization_22 (Bat  (None, 44, 44, 64)       256       \n",
      " chNormalization)                                                \n",
      "                                                                 \n",
      " activation_22 (Activation)  (None, 44, 44, 64)        0         \n",
      "                                                                 \n",
      " separable_conv2d_85 (Separa  (None, 40, 40, 64)       5760      \n",
      " bleConv2D)                                                      \n",
      "                                                                 \n",
      " batch_normalization_23 (Bat  (None, 40, 40, 64)       256       \n",
      " chNormalization)                                                \n",
      "                                                                 \n",
      " activation_23 (Activation)  (None, 40, 40, 64)        0         \n",
      "                                                                 \n",
      " separable_conv2d_86 (Separa  (None, 38, 38, 64)       4736      \n",
      " bleConv2D)                                                      \n",
      "                                                                 \n",
      " separable_conv2d_87 (Separa  (None, 36, 36, 64)       4736      \n",
      " bleConv2D)                                                      \n",
      "                                                                 \n",
      " separable_conv2d_88 (Separa  (None, 34, 34, 64)       4736      \n",
      " bleConv2D)                                                      \n",
      "                                                                 \n",
      " separable_conv2d_89 (Separa  (None, 32, 32, 64)       4736      \n",
      " bleConv2D)                                                      \n",
      "                                                                 \n",
      " separable_conv2d_90 (Separa  (None, 30, 30, 64)       4736      \n",
      " bleConv2D)                                                      \n",
      "                                                                 \n",
      " separable_conv2d_91 (Separa  (None, 28, 28, 64)       4736      \n",
      " bleConv2D)                                                      \n",
      "                                                                 \n",
      " separable_conv2d_92 (Separa  (None, 26, 26, 32)       2656      \n",
      " bleConv2D)                                                      \n",
      "                                                                 \n",
      " separable_conv2d_93 (Separa  (None, 24, 24, 32)       1344      \n",
      " bleConv2D)                                                      \n",
      "                                                                 \n",
      " separable_conv2d_94 (Separa  (None, 22, 22, 32)       1344      \n",
      " bleConv2D)                                                      \n",
      "                                                                 \n",
      " separable_conv2d_95 (Separa  (None, 20, 20, 32)       1344      \n",
      " bleConv2D)                                                      \n",
      "                                                                 \n",
      " separable_conv2d_96 (Separa  (None, 18, 18, 32)       1344      \n",
      " bleConv2D)                                                      \n",
      "                                                                 \n",
      " separable_conv2d_97 (Separa  (None, 16, 16, 32)       1344      \n",
      " bleConv2D)                                                      \n",
      "                                                                 \n",
      " separable_conv2d_98 (Separa  (None, 14, 14, 32)       1344      \n",
      " bleConv2D)                                                      \n",
      "                                                                 \n"
     ]
    },
    {
     "name": "stdout",
     "output_type": "stream",
     "text": [
      " separable_conv2d_99 (Separa  (None, 12, 12, 32)       1344      \n",
      " bleConv2D)                                                      \n",
      "                                                                 \n",
      " separable_conv2d_100 (Separ  (None, 10, 10, 32)       1344      \n",
      " ableConv2D)                                                     \n",
      "                                                                 \n",
      " separable_conv2d_101 (Separ  (None, 8, 8, 32)         1344      \n",
      " ableConv2D)                                                     \n",
      "                                                                 \n",
      " separable_conv2d_102 (Separ  (None, 6, 6, 32)         1344      \n",
      " ableConv2D)                                                     \n",
      "                                                                 \n",
      " separable_conv2d_103 (Separ  (None, 5, 5, 32)         1184      \n",
      " ableConv2D)                                                     \n",
      "                                                                 \n",
      " separable_conv2d_104 (Separ  (None, 4, 4, 30)         1118      \n",
      " ableConv2D)                                                     \n",
      "                                                                 \n",
      " separable_conv2d_105 (Separ  (None, 3, 3, 30)         1050      \n",
      " ableConv2D)                                                     \n",
      "                                                                 \n",
      " separable_conv2d_106 (Separ  (None, 2, 2, 30)         1050      \n",
      " ableConv2D)                                                     \n",
      "                                                                 \n",
      " separable_conv2d_107 (Separ  (None, 1, 1, 30)         1050      \n",
      " ableConv2D)                                                     \n",
      "                                                                 \n",
      "=================================================================\n",
      "Total params: 259,973\n",
      "Trainable params: 258,181\n",
      "Non-trainable params: 1,792\n",
      "_________________________________________________________________\n"
     ]
    },
    {
     "name": "stderr",
     "output_type": "stream",
     "text": [
      "/home/skycam/basics/semantic_seg/pix2pix/venv3.8/lib/python3.8/site-packages/keras/optimizer_v2/adam.py:105: UserWarning: The `lr` argument is deprecated, use `learning_rate` instead.\n",
      "  super(Adam, self).__init__(name, **kwargs)\n"
     ]
    }
   ],
   "source": [
    "\n",
    "model_layers = [ \n",
    "    tf.keras.layers.SeparableConv2D( 128 , input_shape=( 96 , 96 , 1 ) , kernel_size=( 5 , 5 ) , strides=1 ),\n",
    "    tf.keras.layers.BatchNormalization(),\n",
    "    tf.keras.layers.Activation( 'relu' ) ,\n",
    "    tf.keras.layers.SeparableConv2D( 128 , kernel_size=( 5 , 5 ) , strides=1 ),\n",
    "    tf.keras.layers.BatchNormalization(),\n",
    "    tf.keras.layers.Activation( 'relu' ) ,\n",
    "    \n",
    "    tf.keras.layers.SeparableConv2D( 128 , kernel_size=( 5 , 5 ) , strides=1 , activation='relu' ),\n",
    "    tf.keras.layers.SeparableConv2D( 128 , kernel_size=( 5 , 5 ) , strides=1 , activation='relu' ),\n",
    "\n",
    "    tf.keras.layers.SeparableConv2D( 128 , kernel_size=( 5 , 5 ) , strides=1 ),\n",
    "    tf.keras.layers.BatchNormalization(),\n",
    "    tf.keras.layers.Activation( 'relu' ) ,\n",
    "    tf.keras.layers.SeparableConv2D( 128 , kernel_size=( 5 , 5 ) , strides=1 ),\n",
    "    tf.keras.layers.BatchNormalization(),\n",
    "    tf.keras.layers.Activation( 'relu' ) ,\n",
    "\n",
    "    tf.keras.layers.SeparableConv2D( 128 , kernel_size=( 5 , 5 ) , strides=1 , activation='relu' ),\n",
    "    tf.keras.layers.SeparableConv2D( 128 , kernel_size=( 5 , 5 ) , strides=1 , activation='relu' ),\n",
    "\n",
    "    tf.keras.layers.SeparableConv2D( 128 , kernel_size=( 5 , 5 ) , strides=1 ),\n",
    "    tf.keras.layers.BatchNormalization(),\n",
    "    tf.keras.layers.Activation( 'relu' ) ,\n",
    "    tf.keras.layers.SeparableConv2D( 128 , kernel_size=( 5 , 5 ) , strides=1 ),\n",
    "    tf.keras.layers.BatchNormalization(),\n",
    "    tf.keras.layers.Activation( 'relu' ) ,\n",
    "    \n",
    "    tf.keras.layers.SeparableConv2D( 64 , kernel_size=( 5 , 5 ) , strides=1 , activation='relu' ),\n",
    "    tf.keras.layers.SeparableConv2D( 64 , kernel_size=( 5 , 5 ) , strides=1 , activation='relu' ),\n",
    "\n",
    "    tf.keras.layers.SeparableConv2D( 64 , kernel_size=( 5 , 5 ) , strides=1),\n",
    "    tf.keras.layers.BatchNormalization(),\n",
    "    tf.keras.layers.Activation( 'relu' ) ,\n",
    "    tf.keras.layers.SeparableConv2D( 64 , kernel_size=( 5 , 5 ) , strides=1),\n",
    "    tf.keras.layers.BatchNormalization(),\n",
    "    tf.keras.layers.Activation( 'relu' ) ,\n",
    "\n",
    "    tf.keras.layers.SeparableConv2D( 64 , kernel_size=( 3 , 3 ) , strides=1 , activation='relu' ),\n",
    "    tf.keras.layers.SeparableConv2D( 64 , kernel_size=( 3 , 3 ) , strides=1 , activation='relu' ),\n",
    "\n",
    "    tf.keras.layers.SeparableConv2D( 64 , kernel_size=( 3 , 3 ) , strides=1 , activation='relu' ),\n",
    "    tf.keras.layers.SeparableConv2D( 64 , kernel_size=( 3 , 3 ) , strides=1 , activation='relu' ),\n",
    "\n",
    "    tf.keras.layers.SeparableConv2D( 64 , kernel_size=( 3 , 3 ) , strides=1 , activation='relu' ),\n",
    "    tf.keras.layers.SeparableConv2D( 64 , kernel_size=( 3 , 3 ) , strides=1 , activation='relu' ),\n",
    "\n",
    "    tf.keras.layers.SeparableConv2D( 32 , kernel_size=( 3 , 3 ) , strides=1 , activation='relu' ),\n",
    "    tf.keras.layers.SeparableConv2D( 32 , kernel_size=( 3 , 3 ) , strides=1 , activation='relu' ),\n",
    "\n",
    "    tf.keras.layers.SeparableConv2D( 32 , kernel_size=( 3 , 3 ) , strides=1 , activation='relu' ),\n",
    "    tf.keras.layers.SeparableConv2D( 32 , kernel_size=( 3 , 3 ) , strides=1 , activation='relu' ),\n",
    "\n",
    "    tf.keras.layers.SeparableConv2D( 32 , kernel_size=( 3 , 3 ) , strides=1 , activation='relu' ),\n",
    "    tf.keras.layers.SeparableConv2D( 32 , kernel_size=( 3 , 3 ) , strides=1 , activation='relu' ),\n",
    "\n",
    "    tf.keras.layers.SeparableConv2D( 32 , kernel_size=( 3 , 3 ) , strides=1 , activation='relu' ),\n",
    "    tf.keras.layers.SeparableConv2D( 32 , kernel_size=( 3 , 3 ) , strides=1 , activation='relu' ),\n",
    "\n",
    "    tf.keras.layers.SeparableConv2D( 32 , kernel_size=( 3 , 3 ) , strides=1 , activation='relu' ),\n",
    "    tf.keras.layers.SeparableConv2D( 32 , kernel_size=( 3 , 3 ) , strides=1 , activation='relu' ),\n",
    "    \n",
    "    tf.keras.layers.SeparableConv2D( 32 , kernel_size=( 3 , 3 ) , strides=1 , activation='relu' ),\n",
    "    tf.keras.layers.SeparableConv2D( 32 , kernel_size=( 2 , 2 ) , strides=1 , activation='relu' ),\n",
    "\n",
    "    tf.keras.layers.SeparableConv2D( 30 , kernel_size=( 2 , 2 ) , strides=1 , activation='relu' ),\n",
    "    tf.keras.layers.SeparableConv2D( 30 , kernel_size=( 2 , 2 ) , strides=1 , activation='relu' ),\n",
    "    tf.keras.layers.SeparableConv2D( 30 , kernel_size=( 2 , 2 ) , strides=1 , activation='relu' ),\n",
    "    tf.keras.layers.SeparableConv2D( 30 , kernel_size=( 2 , 2 ) , strides=1 , activation='sigmoid' ),\n",
    "]\n",
    "model = tf.keras.Sequential( model_layers )\n",
    "model.compile( loss=tf.keras.losses.mean_squared_error , optimizer=tf.keras.optimizers.Adam( lr=0.0001 ) , metrics=[ 'mse' ] )\n",
    "model.summary()\n"
   ]
  },
  {
   "cell_type": "markdown",
   "metadata": {
    "id": "BQwFVM-SlQV-"
   },
   "source": [
    "\n",
    "## 4) Training the Model\n",
    "\n",
    "We'll train the model for 150 epochs with a batch of 50.\n"
   ]
  },
  {
   "cell_type": "code",
   "execution_count": null,
   "metadata": {
    "id": "UkZRWOph7n5a"
   },
   "outputs": [
    {
     "name": "stdout",
     "output_type": "stream",
     "text": [
      "Epoch 1/5\n",
      "21/30 [====================>.........] - ETA: 13s - loss: 0.0384 - mse: 0.0384"
     ]
    }
   ],
   "source": [
    "\n",
    "model.fit( x_train , y_train , epochs=5 , batch_size=50 , validation_data=( x_test , y_test ) )\n"
   ]
  },
  {
   "cell_type": "markdown",
   "metadata": {
    "id": "xfigqcz1BqlA"
   },
   "source": [
    "\n",
    "## 5) Generate keypoints for images\n",
    "\n",
    "We will generate keypoints for 15 images from our test dataset. These points are then plotted on the image.\n"
   ]
  },
  {
   "cell_type": "code",
   "execution_count": null,
   "metadata": {
    "id": "IsWsGrm8BvgN"
   },
   "outputs": [],
   "source": [
    "\n",
    "import matplotlib.pyplot as plt\n",
    "\n",
    "fig = plt.figure(figsize=( 50 , 50 ))\n",
    "\n",
    "for i in range( 1 , 6 ):\n",
    "    sample_image = np.reshape( x_test[i] * 255  , ( 96 , 96 ) ).astype( np.uint8 )\n",
    "    pred = model.predict( x_test[ i : i +1  ] ) * 96\n",
    "    pred = pred.astype( np.int32 )\n",
    "    pred = np.reshape( pred[0 , 0 , 0 ] , ( 15 , 2 ) )\n",
    "    fig.add_subplot( 1 , 10 , i )\n",
    "    plt.imshow( sample_image.T , cmap='gray' )\n",
    "    plt.scatter( pred[ : , 0 ] , pred[ : , 1 ] , c='yellow' )\n",
    "    \n",
    "plt.show()\n"
   ]
  },
  {
   "cell_type": "markdown",
   "metadata": {
    "id": "BUO15xOkmjrQ"
   },
   "source": [
    "\n",
    "## 6) Take a Picture and Predict landmarks for it ( Just for Fun! )\n",
    "\n",
    "We'll use this Colab snippet to take a picture from a webcam in your PC. Run the cell below first. See the [reference notebook](https://colab.research.google.com/notebooks/snippets/advanced_outputs.ipynb#scrollTo=2viqYx97hPMi).\n"
   ]
  },
  {
   "cell_type": "markdown",
   "metadata": {
    "id": "j6uVinr4nGdW"
   },
   "source": [
    "\n",
    "\n",
    "Run this code cell. You'll see a camera preview and a \"*Capture*\" button. Once you take a picture, it will be saved as `photo.jpg`.\n"
   ]
  },
  {
   "cell_type": "code",
   "execution_count": null,
   "metadata": {
    "id": "Dx3inKUElhN6"
   },
   "outputs": [],
   "source": [
    "\n",
    "from IPython.display import Image\n",
    "try:\n",
    "  filename = take_photo()\n",
    "  print('Saved to {}'.format(filename))\n",
    "  \n",
    "  # Show the image which was just taken.\n",
    "  display(Image(filename))\n",
    "except Exception as err:\n",
    "  # Errors will be thrown if the user does not have a webcam or if they do not\n",
    "  # grant the page permission to access it.\n",
    "  print(str(err))\n"
   ]
  },
  {
   "cell_type": "markdown",
   "metadata": {
    "id": "76VOM6UOnTAd"
   },
   "source": [
    "\n",
    "We'll read the `photo.jpg`, resize it `( 96 , 96 )` and feed it to our model. The predictions will then be plotted on the image.\n"
   ]
  },
  {
   "cell_type": "code",
   "execution_count": null,
   "metadata": {
    "id": "rmTsW_WZi0q9"
   },
   "outputs": [],
   "source": [
    "\n",
    "from PIL import Image\n",
    "import matplotlib.pyplot as plt\n",
    "\n",
    "image = Image.open( \"1.jpg\").convert('L').resize( ( 96 , 96 ) ).rotate( 90 )\n",
    "image_arr = np.asarray( image ) / 255\n",
    "\n",
    "pred = model.predict( np.array( [ image_arr.reshape( 96 , 96 , 1 ) ] ) ) * 96\n",
    "pred = pred.astype( np.int32 )\n",
    "pred = np.reshape( pred[0 , 0 , 0 ] , ( 15 , 2 ) )\n",
    "\n",
    "plt.imshow( image_arr.T , cmap='gray' )\n",
    "plt.scatter( pred[ : , 0 ] , pred[ : , 1 ] , c='yellow' )\n",
    "plt.show()\n"
   ]
  },
  {
   "cell_type": "markdown",
   "metadata": {
    "id": "y33pmtBfEqo5"
   },
   "source": [
    "You may convert the Keras model to a TensorFlow Lite model."
   ]
  },
  {
   "cell_type": "code",
   "execution_count": null,
   "metadata": {
    "id": "jXYlDomWEvzH"
   },
   "outputs": [],
   "source": [
    "if 0:\n",
    "    converter = tf.lite.TFLiteConverter.from_keras_model( model )\n",
    "    converter.optimizations = [tf.lite.Optimize.DEFAULT]\n",
    "    x_test = x_test.astype( np.float32 )\n",
    "    ds = tf.data.Dataset.from_tensor_slices(( x_test )).batch(1)\n",
    "    def representative_data_gen():\n",
    "      for input_value in ds.take(100):\n",
    "        yield [input_value]\n",
    "    converter.representative_dataset = representative_data_gen\n",
    "    converter.target_spec.supported_ops = [tf.lite.OpsSet.TFLITE_BUILTINS_INT8]\n",
    "    converter.inference_input_type = tf.uint8\n",
    "    converter.inference_output_type = tf.uint8\n",
    "\n",
    "    buffer = converter.convert()\n",
    "    open( 'model_sep.tflite' , 'wb' ).write( buffer )\n",
    "\n",
    "    interpreter = tf.lite.Interpreter(model_path=\"model.tflite\")\n",
    "    interpreter.allocate_tensors()\n",
    "\n",
    "    # Print input shape and type\n",
    "    print(interpreter.get_input_details()[0]['shape'])\n",
    "    print(interpreter.get_input_details()[0]['dtype'])\n",
    "\n",
    "    # Print output shape and type\n",
    "    print(interpreter.get_output_details()[0]['shape'])\n",
    "    print(interpreter.get_output_details()[0]['dtype'])\n"
   ]
  },
  {
   "cell_type": "code",
   "execution_count": null,
   "metadata": {
    "id": "aNbeaMjkVgnG"
   },
   "outputs": [],
   "source": []
  }
 ],
 "metadata": {
  "accelerator": "GPU",
  "colab": {
   "collapsed_sections": [],
   "name": "Face_Landmark_Detection.ipynb",
   "private_outputs": true,
   "provenance": []
  },
  "kernelspec": {
   "display_name": "Python 3 (ipykernel)",
   "language": "python",
   "name": "python3"
  },
  "language_info": {
   "codemirror_mode": {
    "name": "ipython",
    "version": 3
   },
   "file_extension": ".py",
   "mimetype": "text/x-python",
   "name": "python",
   "nbconvert_exporter": "python",
   "pygments_lexer": "ipython3",
   "version": "3.8.10"
  }
 },
 "nbformat": 4,
 "nbformat_minor": 1
}
